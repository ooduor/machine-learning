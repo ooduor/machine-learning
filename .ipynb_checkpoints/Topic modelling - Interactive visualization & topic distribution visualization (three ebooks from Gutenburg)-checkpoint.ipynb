{
 "cells": [
  {
   "cell_type": "markdown",
   "metadata": {},
   "source": [
    "## Topic modeling\n",
    "\n",
    "The books are downloaded in a directory called \"Plaintexts\" that is on the same directory as this notebook for simplicity.\n",
    "\n",
    "We use three ebook texts with different topics from Gutenburg:\n",
    "1. [Adrift in New York (children fiction)](http://www.gutenberg.org/cache/epub/18581/pg18581.txt)\n",
    "2. [Beethoven (music)](http://www.gutenberg.org/cache/epub/15141/pg15141.txt)\n",
    "3. [Sandwiches (cook)](http://www.gutenberg.org/cache/epub/29329/pg29329.txt)"
   ]
  },
  {
   "cell_type": "code",
   "execution_count": 17,
   "metadata": {},
   "outputs": [
    {
     "name": "stdout",
     "output_type": "stream",
     "text": [
      "Files found:\n",
      "['Plaintexts/Sandwiches.txt',\n",
      " 'Plaintexts/Beethoven.txt',\n",
      " 'Plaintexts/Adrift in New York.txt']\n",
      "\n",
      "Items in list: 3\n"
     ]
    }
   ],
   "source": [
    "import glob, os\n",
    "import codecs\n",
    "from pprint import pprint\n",
    "\n",
    "# directory with the downloaded texts\n",
    "texts_dir = \"Plaintexts\"\n",
    "# get all the .txt files in \"Plaintexts\" directory in list\n",
    "textfiles = glob.glob(os.path.join(texts_dir, \"*.txt\"), recursive=False)\n",
    "print(\"Files found:\")\n",
    "pprint(textfiles)\n",
    "\n",
    "def read_txt(filename):\n",
    "    \"\"\"Function to read the text files and return text\"\"\"\n",
    "    with codecs.open(filename,'r','utf-8') as f:\n",
    "        text = f.read()\n",
    "        return text\n",
    "\n",
    "# import the textfiles into a list\n",
    "raw_texts = []\n",
    "for textfile in textfiles:\n",
    "    raw_texts.append(read_txt(textfile))\n",
    "print(\"\\nItems in list:\", len(raw_texts))"
   ]
  },
  {
   "cell_type": "markdown",
   "metadata": {},
   "source": [
    "### Preprocessing\n",
    "\n",
    "We iterate through the three text files and remove stopwords, punctuation and lemmatize."
   ]
  },
  {
   "cell_type": "code",
   "execution_count": 18,
   "metadata": {
    "collapsed": true
   },
   "outputs": [],
   "source": [
    "from nltk.corpus import stopwords \n",
    "from nltk.stem.wordnet import WordNetLemmatizer\n",
    "from nltk.tokenize import word_tokenize\n",
    "import string\n",
    "\n",
    "punctuation = set(string.punctuation) # retrieve punctuation set\n",
    "use_stopwords = stopwords.words('english')\n",
    "lemmatize = WordNetLemmatizer()\n",
    "\n",
    "clean_texts = []\n",
    "for text in raw_texts:\n",
    "    tok = \" \".join(word_tokenize(text))  # tokenize\n",
    "   \n",
    "    #remove punctuation\n",
    "    re_punc = \"\".join(i for i in tok if i not in punctuation)\n",
    "    \n",
    "    #remove stopwords\n",
    "    re_sw = \" \".join([i for i in re_punc.lower().split() if i not in use_stopwords])\n",
    "    \n",
    "    #lemmatization\n",
    "    le = \" \".join(lemmatize.lemmatize(i) for i in re_sw.split())\n",
    "    clean_texts.append(le)"
   ]
  },
  {
   "cell_type": "markdown",
   "metadata": {},
   "source": [
    "### Converting the text into a matrix of tokens"
   ]
  },
  {
   "cell_type": "code",
   "execution_count": 19,
   "metadata": {},
   "outputs": [
    {
     "name": "stdout",
     "output_type": "stream",
     "text": [
      "CountVectorizer(analyzer='word', binary=False, decode_error='strict',\n",
      "        dtype=<class 'numpy.int64'>, encoding='utf-8', input='content',\n",
      "        lowercase=True, max_df=1.0, max_features=1000, min_df=2,\n",
      "        ngram_range=(1, 1), preprocessor=None, stop_words='english',\n",
      "        strip_accents='unicode', token_pattern='(?u)\\\\b\\\\w\\\\w+\\\\b',\n",
      "        tokenizer=None, vocabulary=None)\n"
     ]
    }
   ],
   "source": [
    "from sklearn.feature_extraction.text import CountVectorizer  \n",
    "\n",
    "# only consider top 1000 vocabulary ordered by \n",
    "# term frequency across the entire text corpus\n",
    "n_features = 1000\n",
    "\n",
    "#vectorize text\n",
    "tf_vectorizer = CountVectorizer(min_df = 2,\n",
    "                                strip_accents = 'unicode',\n",
    "                                max_features=n_features,\n",
    "                                stop_words='english')\n",
    "\n",
    "# learn vocabulary and return term-document matrix\n",
    "tf = tf_vectorizer.fit_transform(clean_texts)\n",
    "pprint(tf_vectorizer, indent=2)"
   ]
  },
  {
   "cell_type": "markdown",
   "metadata": {},
   "source": [
    "### LDA topic modeling\n",
    "\n",
    "A brief example to explain LDA topic modeling.\n",
    "\n",
    "Suppose you have the following set of sentences:\n",
    "\n",
    "* I like to eat broccoli and bananas.\n",
    "* I ate a banana and spinach smoothie for breakfast.\n",
    "* Chinchillas and kittens are cute.\n",
    "* My sister adopted a kitten yesterday.\n",
    "* Look at this cute hamster munching on a piece of broccoli.\n",
    "\n",
    "What is Latent Dirichlet Allocation? It’s a way of automatically discovering **topics** that these sentences contain. For example, given these sentences and asked for 2 topics, LDA might produce something like\n",
    "\n",
    "* **Sentences 1 and 2:** 100% Topic A\n",
    "* **Sentences 3 and 4:** 100% Topic B\n",
    "* **Sentence 5:** 60% Topic A, 40% Topic B\n",
    "* **Topic A:** 30% broccoli, 15% bananas, 10% breakfast, 10% munching, … (at which point, you could interpret topic A to be about food)\n",
    "* **Topic B:** 20% chinchillas, 20% kittens, 20% cute, 15% hamster, … (at which point, you could interpret topic B to be about cute animals)\n",
    "\n",
    "Reference: http://blog.echen.me/2011/08/22/introduction-to-latent-dirichlet-allocation/"
   ]
  },
  {
   "cell_type": "code",
   "execution_count": 20,
   "metadata": {},
   "outputs": [
    {
     "data": {
      "text/plain": [
       "LatentDirichletAllocation(batch_size=128, doc_topic_prior=None,\n",
       "             evaluate_every=-1, learning_decay=0.7,\n",
       "             learning_method='online', learning_offset=10.0,\n",
       "             max_doc_update_iter=100, max_iter=50, mean_change_tol=0.001,\n",
       "             n_components=4, n_jobs=1, n_topics=None, perp_tol=0.1,\n",
       "             random_state=0, topic_word_prior=None,\n",
       "             total_samples=1000000.0, verbose=0)"
      ]
     },
     "execution_count": 20,
     "metadata": {},
     "output_type": "execute_result"
    }
   ],
   "source": [
    "from sklearn.decomposition import LatentDirichletAllocation\n",
    "\n",
    "# set the topic counts\n",
    "n_topic = 4\n",
    "\n",
    "lda = LatentDirichletAllocation(n_components = n_topic, \n",
    "                                learning_method='online',\n",
    "                                max_iter=50,\n",
    "                                random_state=0)\n",
    "lda.fit(tf)"
   ]
  },
  {
   "cell_type": "markdown",
   "metadata": {},
   "source": [
    "### Showing topics\n",
    "\n",
    "Using the [LDA](http://scikit-learn.org/stable/modules/generated/sklearn.decomposition.LatentDirichletAllocation.html) generated above, we can derive the top words"
   ]
  },
  {
   "cell_type": "code",
   "execution_count": 21,
   "metadata": {},
   "outputs": [
    {
     "name": "stdout",
     "output_type": "stream",
     "text": [
      "Topic #0:\n",
      "work time music year life man great master project friend art letter new good mind form world way thought best\n",
      "Topic #1:\n",
      "nt said mr know boy think man uncle yes like miss asked young work say time come make sir good\n",
      "Topic #2:\n",
      "work said bread mr nt man year life time add cut music project half good know way little make great\n",
      "Topic #3:\n",
      "bread cut add half project work salt make gutenbergtm chicken buttered spread cover press cold white book meat fish fine\n"
     ]
    }
   ],
   "source": [
    "def print_top_words(model, feature_names, n_top_words):\n",
    "    \"\"\"print top terms in each topic\"\"\"\n",
    "    for topic_idx, topic in enumerate(model.components_):\n",
    "        print(\"Topic #{}:\".format(topic_idx))\n",
    "        print(\" \".join([feature_names[i]\n",
    "                        for i in topic.argsort()[:-n_top_words - 1:-1]]))\n",
    "\n",
    "# set the top n words in each topic\n",
    "n_top_words=20\n",
    "        \n",
    "# ngrams featured in the text\n",
    "tf_feature_names = tf_vectorizer.get_feature_names()\n",
    "\n",
    "print_top_words(lda, tf_feature_names, n_top_words)"
   ]
  },
  {
   "cell_type": "markdown",
   "metadata": {},
   "source": [
    "### From the three topics, we can deduce that:\n",
    "- Topic 0: Music related\n",
    "- Topic 1: Children related\n",
    "- Topic 2: Food related"
   ]
  },
  {
   "cell_type": "markdown",
   "metadata": {},
   "source": [
    "### Visualizing topic models\n",
    "We now have the data to visualize the topic models\n",
    "\n",
    "#### Visualize topic distribution\n",
    "We first get the probability of topic distrubition in the three texts."
   ]
  },
  {
   "cell_type": "code",
   "execution_count": 26,
   "metadata": {},
   "outputs": [
    {
     "name": "stdout",
     "output_type": "stream",
     "text": [
      "array([[  5.33330333e-05,   5.28801808e-05,   5.10933372e-05,\n",
      "          9.99842693e-01],\n",
      "       [  9.99430555e-01,   5.33936476e-04,   1.72315706e-05,\n",
      "          1.82768261e-05],\n",
      "       [  9.38328437e-04,   9.99025507e-01,   1.75641221e-05,\n",
      "          1.86006860e-05]])\n"
     ]
    }
   ],
   "source": [
    "# topic_distribution is a distribution of the topics in each text\n",
    "topic_distribution = lda.transform(tf)\n",
    "\n",
    "pprint(topic_distribution, indent=2) # not normalized (sum of each row is not 1)"
   ]
  },
  {
   "cell_type": "markdown",
   "metadata": {},
   "source": [
    "#### Next we will try to visualize the topic distribution in a heatmap."
   ]
  },
  {
   "cell_type": "code",
   "execution_count": 23,
   "metadata": {},
   "outputs": [
    {
     "data": {
      "text/plain": [
       "<matplotlib.figure.Figure at 0xe5ad8e2c>"
      ]
     },
     "metadata": {},
     "output_type": "display_data"
    },
    {
     "data": {
      "image/png": "[encoded data removed]",
      "text/plain": [
       "<matplotlib.figure.Figure at 0xe5ad8c8c>"
      ]
     },
     "metadata": {},
     "output_type": "display_data"
    }
   ],
   "source": [
    "import matplotlib.ticker as ticker\n",
    "import matplotlib.cm as cm\n",
    "import matplotlib as mpl\n",
    "import numpy as np\n",
    "\n",
    "import matplotlib.pyplot as plt\n",
    "%matplotlib inline\n",
    "\n",
    "flight_matrix = topic_distribution \n",
    "\n",
    "# set labels of Y axis as filenames\n",
    "yLabel = [os.path.basename(textfile) for textfile in textfiles]\n",
    "\n",
    "# set labels of X axis as topic index\n",
    "xLabel = list(range(n_topic))\n",
    "\n",
    "# add \"Topic \" to each element (1,2,3) in xLabel\n",
    "for i in range(len(xLabel)):\n",
    "    xLabel[i] = \"Topic {}\".format(xLabel[i])\n",
    "\n",
    "fig = plt.figure()\n",
    "fig, ax = plt.subplots(1,1, figsize=(6,6))\n",
    "\n",
    "ax.set_xticks(np.arange(len(xLabel)))\n",
    "ax.set_yticks(np.arange(len(yLabel)))\n",
    "\n",
    "ax.set_xticklabels(xLabel)\n",
    "ax.set_yticklabels(yLabel)\n",
    "\n",
    "heatplot = ax.imshow(flight_matrix, cmap='Purples')"
   ]
  },
  {
   "cell_type": "markdown",
   "metadata": {},
   "source": [
    "### As we discovered above:\n",
    "    \n",
    "* Topic 0: Music related\n",
    "* Topic 1: Children related  \n",
    "* Topic 2: Food related\n",
    "\n",
    "The distribution figure shows that the topics generated are correspondent with the content of the three texts."
   ]
  },
  {
   "cell_type": "markdown",
   "metadata": {},
   "source": [
    "### Interactive visualization using pyLDAvis\n",
    "\n",
    "[pyLDAvis](https://github.com/bmabey/pyLDAvis) is a Python library for interactive topic model visualization. Port of the R LDAvis package. You can install it via pip as shown below:"
   ]
  },
  {
   "cell_type": "code",
   "execution_count": 24,
   "metadata": {},
   "outputs": [
    {
     "name": "stdout",
     "output_type": "stream",
     "text": [
      "Requirement already satisfied: pyLDAvis in /home/anthony/anaconda3/lib/python3.6/site-packages\n",
      "Requirement already satisfied: joblib>=0.8.4 in /home/anthony/anaconda3/lib/python3.6/site-packages (from pyLDAvis)\n",
      "Requirement already satisfied: pandas>=0.17.0 in /home/anthony/anaconda3/lib/python3.6/site-packages (from pyLDAvis)\n",
      "Requirement already satisfied: pytest in /home/anthony/anaconda3/lib/python3.6/site-packages (from pyLDAvis)\n",
      "Requirement already satisfied: jinja2>=2.7.2 in /home/anthony/anaconda3/lib/python3.6/site-packages (from pyLDAvis)\n",
      "Requirement already satisfied: numpy>=1.9.2 in /home/anthony/anaconda3/lib/python3.6/site-packages (from pyLDAvis)\n",
      "Requirement already satisfied: future in /home/anthony/.local/lib/python3.6/site-packages (from pyLDAvis)\n",
      "Requirement already satisfied: numexpr in /home/anthony/anaconda3/lib/python3.6/site-packages (from pyLDAvis)\n",
      "Requirement already satisfied: scipy>=0.18.0 in /home/anthony/anaconda3/lib/python3.6/site-packages (from pyLDAvis)\n",
      "Requirement already satisfied: wheel>=0.23.0 in /home/anthony/anaconda3/lib/python3.6/site-packages (from pyLDAvis)\n",
      "Requirement already satisfied: funcy in /home/anthony/anaconda3/lib/python3.6/site-packages (from pyLDAvis)\n",
      "Requirement already satisfied: python-dateutil>=2 in /home/anthony/anaconda3/lib/python3.6/site-packages (from pandas>=0.17.0->pyLDAvis)\n",
      "Requirement already satisfied: pytz>=2011k in /home/anthony/anaconda3/lib/python3.6/site-packages (from pandas>=0.17.0->pyLDAvis)\n",
      "Requirement already satisfied: py>=1.4.29 in /home/anthony/anaconda3/lib/python3.6/site-packages (from pytest->pyLDAvis)\n",
      "Requirement already satisfied: MarkupSafe in /home/anthony/anaconda3/lib/python3.6/site-packages (from jinja2>=2.7.2->pyLDAvis)\n",
      "Requirement already satisfied: six>=1.5 in /home/anthony/anaconda3/lib/python3.6/site-packages (from python-dateutil>=2->pandas>=0.17.0->pyLDAvis)\n"
     ]
    }
   ],
   "source": [
    "!pip install pyLDAvis"
   ]
  },
  {
   "cell_type": "code",
   "execution_count": 25,
   "metadata": {},
   "outputs": [
    {
     "data": {
      "text/html": [
       "\n",
       "<link rel=\"stylesheet\" type=\"text/css\" href=\"https://cdn.rawgit.com/bmabey/pyLDAvis/files/ldavis.v1.0.0.css\">\n",
       "\n",
       "\n",
       "<div id=\"ldavis_el2047438135760442486186299\"></div>\n",
       "<script type=\"text/javascript\">\n",
       "\n",
       "var ldavis_el2047438135760442486186299_data = {\"mdsDat\": {\"Freq\": [43.163277156150244, 42.30665549385023, 14.527838155709457, 0.002229194290066897], \"cluster\": [1, 1, 1, 1], \"topics\": [1, 2, 3, 4], \"x\": [0.07198160164346809, 0.1363733784347335, -0.21594483219687477, 0.007589852118673205], \"y\": [0.09261146167290527, -0.09194878569705857, -0.026296030244158587, 0.025633354268312033]}, \"tinfo\": {\"Category\": [\"Default\", \"Default\", \"Default\", \"Default\", \"Default\", \"Default\", \"Default\", \"Default\", \"Default\", \"Default\", \"Default\", \"Default\", \"Default\", \"Default\", \"Default\", \"Default\", \"Default\", \"Default\", \"Default\", \"Default\", \"Default\", \"Default\", \"Default\", \"Default\", \"Default\", \"Default\", \"Default\", \"Default\", \"Default\", \"Default\", \"Topic1\", \"Topic1\", \"Topic1\", \"Topic1\", \"Topic1\", \"Topic1\", \"Topic1\", \"Topic1\", \"Topic1\", \"Topic1\", \"Topic1\", \"Topic1\", \"Topic1\", \"Topic1\", \"Topic1\", \"Topic1\", \"Topic1\", \"Topic1\", \"Topic1\", \"Topic1\", \"Topic1\", \"Topic1\", \"Topic1\", \"Topic1\", \"Topic1\", \"Topic1\", \"Topic1\", \"Topic1\", \"Topic1\", \"Topic1\", \"Topic1\", \"Topic1\", \"Topic1\", \"Topic1\", \"Topic1\", \"Topic1\", \"Topic1\", \"Topic1\", \"Topic1\", \"Topic1\", \"Topic1\", \"Topic1\", \"Topic1\", \"Topic1\", \"Topic1\", \"Topic1\", \"Topic1\", \"Topic1\", \"Topic1\", \"Topic1\", \"Topic1\", \"Topic1\", \"Topic1\", \"Topic1\", \"Topic1\", \"Topic1\", \"Topic1\", \"Topic1\", \"Topic1\", \"Topic1\", \"Topic1\", \"Topic1\", \"Topic1\", \"Topic1\", \"Topic1\", \"Topic1\", \"Topic1\", \"Topic1\", \"Topic1\", \"Topic2\", \"Topic2\", \"Topic2\", \"Topic2\", \"Topic2\", \"Topic2\", \"Topic2\", \"Topic2\", \"Topic2\", \"Topic2\", \"Topic2\", \"Topic2\", \"Topic2\", \"Topic2\", \"Topic2\", \"Topic2\", \"Topic2\", \"Topic2\", \"Topic2\", \"Topic2\", \"Topic2\", \"Topic2\", \"Topic2\", \"Topic2\", \"Topic2\", \"Topic2\", \"Topic2\", \"Topic2\", \"Topic2\", \"Topic2\", \"Topic2\", \"Topic2\", \"Topic2\", \"Topic2\", \"Topic2\", \"Topic2\", \"Topic2\", \"Topic2\", \"Topic2\", \"Topic2\", \"Topic2\", \"Topic2\", \"Topic2\", \"Topic2\", \"Topic2\", \"Topic2\", \"Topic2\", \"Topic2\", \"Topic2\", \"Topic2\", \"Topic2\", \"Topic2\", \"Topic2\", \"Topic2\", \"Topic2\", \"Topic2\", \"Topic2\", \"Topic2\", \"Topic2\", \"Topic3\", \"Topic3\", \"Topic3\", \"Topic3\", \"Topic3\", \"Topic3\", \"Topic3\", \"Topic3\", \"Topic3\", \"Topic3\", \"Topic3\", \"Topic3\", \"Topic3\", \"Topic3\", \"Topic3\", \"Topic3\", \"Topic3\", \"Topic3\", \"Topic3\", \"Topic3\", \"Topic3\", \"Topic3\", \"Topic3\", \"Topic3\", \"Topic3\", \"Topic3\", \"Topic3\", \"Topic3\", \"Topic3\", \"Topic3\", \"Topic3\", \"Topic3\", \"Topic3\", \"Topic3\", \"Topic3\", \"Topic3\", \"Topic3\", \"Topic3\", \"Topic3\", \"Topic3\", \"Topic3\", \"Topic3\", \"Topic3\", \"Topic3\", \"Topic3\", \"Topic4\", \"Topic4\", \"Topic4\", \"Topic4\", \"Topic4\", \"Topic4\", \"Topic4\", \"Topic4\", \"Topic4\", \"Topic4\", \"Topic4\", \"Topic4\", \"Topic4\", \"Topic4\", \"Topic4\", \"Topic4\", \"Topic4\", \"Topic4\", \"Topic4\", \"Topic4\", \"Topic4\", \"Topic4\", \"Topic4\", \"Topic4\", \"Topic4\", \"Topic4\", \"Topic4\", \"Topic4\", \"Topic4\", \"Topic4\", \"Topic4\", \"Topic4\", \"Topic4\", \"Topic4\", \"Topic4\", \"Topic4\", \"Topic4\", \"Topic4\", \"Topic4\", \"Topic4\", \"Topic4\", \"Topic4\", \"Topic4\", \"Topic4\", \"Topic4\", \"Topic4\", \"Topic4\", \"Topic4\", \"Topic4\", \"Topic4\", \"Topic4\", \"Topic4\", \"Topic4\", \"Topic4\", \"Topic4\", \"Topic4\", \"Topic4\", \"Topic4\", \"Topic4\", \"Topic4\", \"Topic4\", \"Topic4\", \"Topic4\", \"Topic4\", \"Topic4\", \"Topic4\", \"Topic4\", \"Topic4\", \"Topic4\", \"Topic4\", \"Topic4\", \"Topic4\", \"Topic4\", \"Topic4\"], \"Freq\": [547.0, 198.0, 503.0, 373.0, 131.0, 214.0, 111.0, 137.0, 152.0, 604.0, 167.0, 147.0, 140.0, 267.0, 201.0, 171.0, 150.0, 248.0, 209.0, 246.0, 75.0, 308.0, 95.0, 173.0, 92.0, 206.0, 163.0, 73.0, 150.0, 324.0, 56.29161211666135, 89.7228547221831, 135.9232300581064, 206.69360630557776, 34.66215515948341, 31.714722409951616, 45.47747729235469, 26.79515523729371, 25.797727597861478, 24.835655802122524, 39.5775827926486, 39.57567778367793, 22.850659853358668, 22.866734918276862, 22.861217271400477, 51.373656138978085, 21.88559856250672, 21.882457785492743, 35.63755903871581, 20.900851218541433, 20.898530573773325, 34.66231514952968, 19.916168907434173, 18.933941251334847, 29.728123062370837, 17.937750565504682, 28.76470011167548, 16.964321178228797, 26.796091768896563, 46.45590934592175, 34.65957026692361, 34.66043853147345, 33.67386858985165, 33.67960425855698, 63.17523669187449, 144.76622689801718, 199.81690389659778, 195.85659012765527, 44.4951324581676, 402.35287812673835, 59.245043612239805, 88.73603649807619, 217.52059916969407, 45.46968577358295, 53.33829719974734, 69.06847316547179, 37.610811442394244, 54.32673747021912, 151.61335254994034, 44.48507310738416, 92.64858407089, 58.24991299313065, 48.42315542821127, 73.96131602593482, 62.18266211634256, 98.56070947161014, 80.85516810561184, 74.94215801793214, 49.39288302244915, 63.170261377279616, 63.15994303257411, 61.183314700795364, 53.32997625226576, 59.21097268457802, 55.29923187665177, 55.30428991661561, 56.27257425692157, 56.28529883208932, 56.22345192050209, 546.1386999555846, 151.4461067378768, 71.92128009931182, 143.57175784395469, 57.20066166527697, 91.55708278846883, 51.2975786101804, 29.70583986698557, 159.29619996855698, 40.503738413013274, 56.20726855985322, 23.816092238390937, 78.7946242370516, 18.90541210846104, 67.9933397203998, 30.686533654176777, 139.67572353876517, 17.925231972571186, 50.31696827456407, 16.942677752811523, 61.121754646498886, 38.541818262607, 48.35647537460759, 15.960555224093126, 24.79003762617701, 156.3442951578451, 14.978463432815646, 14.978807831208472, 14.9780105261655, 13.999840041825646, 335.0108629588758, 446.9580713791945, 88.62432013131037, 176.98463758940528, 183.83929459515568, 62.09266582533077, 73.87604623142695, 56.20918940870614, 36.57825312336459, 67.98819241066725, 60.14474745313125, 112.16823223983714, 143.59471058315944, 65.05369973270449, 128.8702384851335, 82.712490173528, 156.37177397978334, 84.669398657338, 96.48407154172244, 81.74424878742214, 67.99056250976837, 91.55674423101983, 95.5298295573783, 90.58291212085737, 122.00561681909657, 100.38998581685478, 85.74903562601935, 77.81922105314734, 72.89341024176798, 196.63286350268947, 109.34215598457764, 53.37366806300448, 50.52895490261593, 49.577292642204206, 39.14267467646223, 36.292881138524656, 72.34451261097644, 124.52577541008321, 26.806649693390405, 24.910673745163233, 23.95721880816566, 23.012473789453257, 50.52092188103268, 20.167650515566006, 31.556509531527222, 28.71116099195852, 17.323739919495335, 48.631708784709545, 23.960386947726505, 13.525655043163312, 13.526362943328897, 29.657237806380806, 21.11589667120879, 12.577946965158896, 18.27304185360449, 32.50173297846749, 17.319484914652122, 44.82824208898052, 16.370690020318296, 21.119047417725806, 102.70306758667186, 45.78442530946329, 27.763119264260403, 39.14384659733314, 27.754225783919775, 34.40362061872027, 82.8253031103997, 53.4018355833569, 54.35017707980492, 80.1297615352835, 30.620919084694307, 28.718046926190503, 33.49405607292261, 27.779526568406034, 0.0007405425077042881, 0.0007379631848017991, 0.0007386676609713058, 0.0007359012375014478, 0.0007384839448879722, 0.0007355745596929592, 0.0007311708986229618, 0.0007302487383084187, 0.0007346222623246288, 0.0007403511902270404, 0.0007372485425575643, 0.0007405174931519533, 0.0007357319580275597, 0.0007330429449367324, 0.0007368831251245467, 0.0007345509744635764, 0.0007315816355976431, 0.0007329527703594267, 0.0007362652298644854, 0.0007365079944655585, 0.0007343078467567514, 0.0007295213203290539, 0.000735937713469773, 0.0007359187352568474, 0.0007354112212099005, 0.0007353598270482959, 0.0007352962080872378, 0.0007344921857588825, 0.0007341168076963813, 0.0007339682676557449, 0.0007336236231197291, 0.0007329210243222275, 0.0007415106571036305, 0.0007480975965329232, 0.0007412979607909387, 0.0010407536145928856, 0.0007413363673036879, 0.0007407545589356438, 0.0011178894491799454, 0.0007459127728673834, 0.0009156942391234467, 0.0010483371257035937, 0.0007504545763267227, 0.0010071114234870863, 0.0009141941430333019, 0.0009577333636857268, 0.000948889920658444, 0.0007494397347267729, 0.0009643414033476425, 0.000890277919779249, 0.0009449669781427017, 0.0009741786767552662, 0.0007536376991077429, 0.0008715895815098197, 0.0008750751297345584, 0.0008993184076342489, 0.0008857717901736225, 0.0008988807095496999, 0.0007777175185249397, 0.0008793257441437291, 0.000828345347551676, 0.0008658609397928892, 0.0008081608693225684, 0.00082404564652796, 0.0008509603947326877, 0.0008484486343324858, 0.000844159762087199, 0.0008367787640934315, 0.0008472790662195315, 0.0008354689526488578, 0.0008352251263507621, 0.0008458717902052015, 0.0008310151327706145, 0.0008325505759446907], \"Term\": [\"nt\", \"bread\", \"said\", \"mr\", \"cut\", \"music\", \"add\", \"half\", \"yes\", \"work\", \"think\", \"miss\", \"master\", \"project\", \"boy\", \"uncle\", \"asked\", \"life\", \"know\", \"year\", \"salt\", \"man\", \"sir\", \"great\", \"art\", \"make\", \"gutenbergtm\", \"answered\", \"say\", \"time\", \"musician\", \"art\", \"master\", \"music\", \"minor\", \"wrote\", \"frequently\", \"played\", \"composed\", \"talent\", \"occasion\", \"humor\", \"greatest\", \"church\", \"ninth\", \"character\", \"apparent\", \"greatly\", \"finally\", \"occupied\", \"stated\", \"movement\", \"element\", \"development\", \"summer\", \"ability\", \"performance\", \"degree\", \"spirit\", \"count\", \"power\", \"brother\", \"extent\", \"death\", \"world\", \"great\", \"year\", \"life\", \"piano\", \"work\", \"idea\", \"letter\", \"time\", \"case\", \"subject\", \"form\", \"nature\", \"people\", \"man\", \"probably\", \"friend\", \"matter\", \"gave\", \"mind\", \"best\", \"project\", \"new\", \"good\", \"given\", \"way\", \"thought\", \"come\", \"came\", \"young\", \"day\", \"gutenbergtm\", \"like\", \"make\", \"said\", \"nt\", \"yes\", \"answered\", \"miss\", \"wo\", \"sir\", \"girl\", \"thank\", \"think\", \"suppose\", \"cousin\", \"julius\", \"look\", \"expect\", \"dollar\", \"afraid\", \"asked\", \"walked\", \"street\", \"husband\", \"poor\", \"leave\", \"gentleman\", \"drink\", \"ought\", \"uncle\", \"sad\", \"stranger\", \"secretary\", \"sleep\", \"mr\", \"said\", \"tell\", \"boy\", \"know\", \"york\", \"shall\", \"looked\", \"believe\", \"got\", \"let\", \"say\", \"like\", \"want\", \"young\", \"home\", \"man\", \"house\", \"come\", \"money\", \"room\", \"good\", \"make\", \"new\", \"work\", \"time\", \"project\", \"friend\", \"thought\", \"bread\", \"add\", \"chicken\", \"buttered\", \"cover\", \"meat\", \"fish\", \"salt\", \"cut\", \"mix\", \"boiled\", \"hot\", \"inch\", \"spread\", \"toast\", \"olive\", \"remove\", \"center\", \"press\", \"stir\", \"la\", \"boiling\", \"pound\", \"square\", \"caviar\", \"tongue\", \"water\", \"tea\", \"white\", \"smooth\", \"level\", \"half\", \"cold\", \"serve\", \"book\", \"cent\", \"fine\", \"project\", \"gutenbergtm\", \"make\", \"work\", \"use\", \"gutenberg\", \"mr\", \"little\", \"indian\", \"25\", \"64\", \"53\", \"61\", \"24\", \"mixed\", \"edge\", \"76\", \"42\", \"31\", \"obliged\", \"follow\", \"link\", \"george\", \"range\", \"performing\", \"address\", \"pleased\", \"joke\", \"list\", \"entity\", \"enjoy\", \"furnished\", \"news\", \"understood\", \"measure\", \"source\", \"emotion\", \"actually\", \"attained\", \"impressed\", \"share\", \"40\", \"run\", \"bread\", \"patience\", \"preferred\", \"work\", \"exceedingly\", \"add\", \"said\", \"65\", \"mr\", \"cut\", \"year\", \"life\", \"warm\", \"man\", \"half\", \"time\", \"nt\", \"dozen\", \"little\", \"way\", \"music\", \"good\", \"project\", \"inch\", \"know\", \"salt\", \"make\", \"spread\", \"form\", \"great\", \"think\", \"gutenbergtm\", \"day\", \"young\", \"thought\", \"master\", \"like\", \"miss\", \"new\"], \"Total\": [547.0, 198.0, 503.0, 373.0, 131.0, 214.0, 111.0, 137.0, 152.0, 604.0, 167.0, 147.0, 140.0, 267.0, 201.0, 171.0, 150.0, 248.0, 209.0, 246.0, 75.0, 308.0, 95.0, 173.0, 92.0, 206.0, 163.0, 73.0, 150.0, 324.0, 57.78528646058927, 92.17051961013789, 140.38719194644884, 214.13565284754185, 36.15487958643367, 33.20093771623903, 47.92100331250075, 28.28238546766448, 27.268729913272697, 26.317784156329395, 42.011159360728776, 42.04357935696545, 24.31830019130351, 24.350290158415326, 24.34972241770637, 54.79746318666188, 23.365463871592116, 23.367462624136667, 38.1081961866118, 22.383111127206057, 22.3838003581391, 37.13005250167529, 21.400242731458157, 20.416004789064534, 32.14886379815106, 19.40177423137493, 31.197037419941573, 18.449207832914926, 29.269305599441072, 50.89498675846215, 38.112359210140546, 38.117547041186846, 37.09817136250256, 37.13122157387752, 71.5455078817255, 173.7198534905454, 246.31357612927246, 248.40573680761122, 50.897913235414656, 604.4893743705676, 70.52321491973663, 112.78385656786308, 324.8740499121253, 52.861547913735784, 64.50183855729495, 89.71323678638966, 43.97748223454038, 72.35010803011775, 308.2793103734567, 55.80440016816957, 170.76265907614896, 85.05053919481186, 65.62210698817239, 131.4466037551138, 101.48803884236877, 267.13594708873876, 195.45980803054906, 176.2726962580019, 71.254964236588, 135.74039960221364, 136.33072003155436, 162.6894310588482, 108.83434928055495, 189.3130144676281, 132.8908653654221, 163.98058834706322, 204.8911556528979, 206.16617133021234, 503.48710286837627, 547.6015204099069, 152.9228339860015, 73.40005907996432, 147.0282283217176, 58.676625639157066, 95.00109037187839, 53.765527665365006, 31.18842655541269, 167.65101218469067, 42.96932014158101, 59.65737790784122, 25.29663202790724, 84.17162893468713, 20.38670542306494, 73.37728637540826, 33.1505410921254, 150.98282428985306, 19.407949718884673, 54.681834735271615, 18.423583336686484, 66.53494838517896, 41.987616875492556, 52.785967493312356, 17.443324775033062, 27.189808746184067, 171.59900047997283, 16.45699323076201, 16.457531999663207, 16.459912215670744, 15.48005750472159, 373.65723082454673, 503.48710286837627, 98.87694418917309, 201.0783044953406, 209.62297156089315, 69.47752156459838, 85.12957078288288, 64.57623619214114, 41.01065376567793, 79.307093886112, 71.38595305333182, 150.03847899028767, 204.8911556528979, 80.22741979074263, 189.3130144676281, 108.67966368613776, 308.2793103734567, 125.49215373015035, 162.6894310588482, 123.43015763030711, 89.14472434311537, 176.2726962580019, 206.16617133021234, 195.45980803054906, 604.4893743705676, 324.8740499121253, 267.13594708873876, 170.76265907614896, 136.33072003155436, 198.26074694887905, 111.89723718488221, 54.907634242325656, 52.060532617321826, 51.10888535389675, 40.66520123375441, 37.81685963650555, 75.85749702105036, 131.02467249549545, 28.316665748392666, 26.424165190919815, 25.468590843805547, 24.515196168167456, 54.02026084083355, 21.6737670083589, 34.05307657398836, 31.201708671385333, 18.828036159361073, 53.10584418194455, 26.454188835465068, 15.025045114997294, 15.026925781467774, 33.138019806783376, 23.60602545929316, 14.077197797766559, 20.760956639460083, 36.96844663684575, 19.80352966491653, 51.26724953224601, 18.854572675217092, 24.590217942473828, 137.6670406382669, 58.117796560482425, 37.132808284813706, 58.342270398857835, 38.101705581855235, 56.559939318743666, 267.13594708873876, 163.98058834706322, 206.16617133021234, 604.4893743705676, 82.25301002860058, 89.17315029756476, 373.65723082454673, 120.62713907105177, 10.279406081957244, 10.31295826310332, 10.345363913603405, 10.312601810518313, 10.382818506608222, 10.351441725973935, 10.311942963383675, 10.31180198881934, 10.381442667798943, 10.481144160687572, 10.447657362792137, 10.572723105129889, 10.510859978675247, 10.47565261448397, 10.549781632945427, 10.518646956773683, 10.478069622969992, 10.51331339430094, 10.573556779309964, 10.577529208600485, 10.547351692205643, 10.479106876752759, 10.57352352059386, 10.574686325605239, 10.573431556984579, 10.578541037442372, 10.582680654987515, 10.577981278034832, 10.58234397588068, 10.580973585711861, 10.582121900672613, 10.581923643975781, 11.523262954515157, 12.345981325744486, 11.552284544743497, 198.26074694887905, 11.56341794243445, 11.496514953954119, 604.4893743705676, 12.342752532216752, 111.89723718488221, 503.48710286837627, 13.296716272430332, 373.65723082454673, 131.02467249549545, 246.31357612927246, 248.40573680761122, 13.18887974411338, 308.2793103734567, 137.6670406382669, 324.8740499121253, 547.6015204099069, 14.237062413173126, 120.62713907105177, 135.74039960221364, 214.13565284754185, 176.2726962580019, 267.13594708873876, 24.515196168167456, 209.62297156089315, 75.85749702105036, 206.16617133021234, 54.02026084083355, 89.71323678638966, 173.7198534905454, 167.65101218469067, 163.98058834706322, 132.8908653654221, 189.3130144676281, 136.33072003155436, 140.38719194644884, 204.8911556528979, 147.0282283217176, 195.45980803054906], \"loglift\": [30.0, 29.0, 28.0, 27.0, 26.0, 25.0, 24.0, 23.0, 22.0, 21.0, 20.0, 19.0, 18.0, 17.0, 16.0, 15.0, 14.0, 13.0, 12.0, 11.0, 10.0, 9.0, 8.0, 7.0, 6.0, 5.0, 4.0, 3.0, 2.0, 1.0, 0.814, 0.8133, 0.8079, 0.8048, 0.798, 0.7944, 0.7878, 0.7862, 0.7847, 0.7822, 0.7805, 0.7797, 0.7779, 0.7773, 0.7771, 0.7757, 0.7747, 0.7745, 0.7732, 0.7717, 0.7715, 0.7714, 0.7683, 0.7648, 0.7619, 0.7617, 0.759, 0.7563, 0.7519, 0.7489, 0.7452, 0.7451, 0.7433, 0.7426, 0.7158, 0.6579, 0.631, 0.6025, 0.7057, 0.4331, 0.6659, 0.6004, 0.439, 0.6895, 0.6501, 0.5787, 0.6838, 0.5537, 0.1305, 0.6135, 0.2287, 0.4617, 0.5362, 0.2651, 0.3503, -0.1569, -0.0425, -0.0151, 0.4737, 0.0753, 0.0708, -0.1378, 0.1269, -0.3221, -0.0366, -0.2467, -0.4521, -0.4581, -1.352, 0.8576, 0.8505, 0.8399, 0.8364, 0.8347, 0.8233, 0.8132, 0.8115, 0.8091, 0.8011, 0.8007, 0.7999, 0.7942, 0.7848, 0.784, 0.783, 0.7824, 0.7808, 0.777, 0.7764, 0.7754, 0.7746, 0.7726, 0.7714, 0.7678, 0.7671, 0.7661, 0.7661, 0.7659, 0.7597, 0.751, 0.7411, 0.7508, 0.7326, 0.729, 0.7479, 0.7184, 0.7215, 0.7458, 0.7062, 0.6889, 0.5693, 0.5047, 0.6506, 0.4756, 0.5872, 0.1815, 0.4667, 0.3378, 0.4481, 0.5893, 0.2052, 0.091, 0.0911, -0.7401, -0.3141, -0.2761, 0.0743, 0.2341, 1.9209, 1.906, 1.9008, 1.8992, 1.8987, 1.8909, 1.888, 1.8817, 1.8782, 1.8743, 1.8701, 1.8679, 1.8658, 1.8621, 1.8571, 1.853, 1.8459, 1.8458, 1.8411, 1.8301, 1.824, 1.8239, 1.8181, 1.8176, 1.8165, 1.8015, 1.8003, 1.7951, 1.7949, 1.7878, 1.7769, 1.6361, 1.6906, 1.6383, 1.53, 1.6122, 1.432, 0.7581, 0.8072, 0.5959, -0.0916, 0.941, 0.796, -0.4829, 0.4607, 1.173, 1.1663, 1.1641, 1.1635, 1.1602, 1.1593, 1.1571, 1.1559, 1.1551, 1.1533, 1.1523, 1.1448, 1.1442, 1.1439, 1.1421, 1.1419, 1.1417, 1.1402, 1.139, 1.139, 1.1388, 1.1388, 1.1386, 1.1384, 1.1379, 1.1373, 1.1368, 1.1362, 1.1353, 1.1352, 1.1346, 1.1337, 1.0601, 1.0, 1.0573, -1.4461, 1.0564, 1.0614, -2.4894, 0.9973, -1.0021, -2.3708, 0.9289, -2.1127, -1.1616, -1.7463, -1.764, 0.9357, -1.9638, -1.2375, -2.0365, -2.5282, 0.8648, -1.1266, -1.2407, -1.6692, -1.4898, -1.8908, 0.3528, -1.6704, -0.7137, -1.6692, -0.3988, -0.8866, -1.5153, -1.4827, -1.4656, -1.2642, -1.6056, -1.2913, -1.3209, -1.6863, -1.3722, -1.6551], \"logprob\": [30.0, 29.0, 28.0, 27.0, 26.0, 25.0, 24.0, 23.0, 22.0, 21.0, 20.0, 19.0, 18.0, 17.0, 16.0, 15.0, 14.0, 13.0, 12.0, 11.0, 10.0, 9.0, 8.0, 7.0, 6.0, 5.0, 4.0, 3.0, 2.0, 1.0, -5.5565, -5.0904, -4.675, -4.2559, -6.0414, -6.1303, -5.7699, -6.2989, -6.3368, -6.3748, -5.9088, -5.9089, -6.4581, -6.4574, -6.4576, -5.648, -6.5013, -6.5014, -6.0137, -6.5473, -6.5474, -6.0414, -6.5956, -6.6461, -6.195, -6.7002, -6.2279, -6.756, -6.2988, -5.7486, -6.0415, -6.0415, -6.0704, -6.0702, -5.4412, -4.612, -4.2897, -4.3097, -5.7917, -3.5898, -5.5054, -5.1014, -4.2048, -5.77, -5.6104, -5.352, -5.9598, -5.5921, -4.5658, -5.7919, -5.0583, -5.5223, -5.7071, -5.2835, -5.457, -4.9964, -5.1944, -5.2704, -5.6873, -5.4413, -5.4414, -5.4732, -5.6106, -5.506, -5.5743, -5.5742, -5.5569, -5.5567, -5.5578, -3.2642, -4.5468, -5.2915, -4.6002, -5.5205, -5.0501, -5.6294, -6.1757, -4.4963, -5.8656, -5.538, -6.3967, -5.2002, -6.6276, -5.3476, -6.1432, -4.6277, -6.6808, -5.6487, -6.7372, -5.4542, -5.9153, -5.6884, -6.7969, -6.3566, -4.515, -6.8604, -6.8604, -6.8605, -6.928, -3.7529, -3.4646, -5.0826, -4.391, -4.353, -5.4384, -5.2647, -5.538, -5.9676, -5.3477, -5.4703, -4.847, -4.6, -5.3918, -4.7082, -5.1517, -4.5148, -5.1283, -4.9977, -5.1634, -5.3477, -5.0501, -5.0076, -5.0608, -4.763, -4.958, -5.1156, -5.2127, -5.278, -3.2168, -3.8037, -4.5208, -4.5756, -4.5946, -4.831, -4.9065, -4.2167, -3.6737, -5.2095, -5.2829, -5.3219, -5.3621, -4.5758, -5.4941, -5.0464, -5.1409, -5.6461, -4.6139, -5.3218, -5.8936, -5.8935, -5.1085, -5.4481, -5.9662, -5.5927, -5.0169, -5.6463, -4.6953, -5.7027, -5.448, -3.8663, -4.6742, -5.1745, -4.8309, -5.1748, -4.96, -4.0814, -4.5203, -4.5027, -4.1145, -5.0765, -5.1406, -4.9868, -5.1739, -6.9241, -6.9276, -6.9266, -6.9304, -6.9269, -6.9308, -6.9368, -6.9381, -6.9321, -6.9244, -6.9286, -6.9241, -6.9306, -6.9343, -6.9291, -6.9322, -6.9363, -6.9344, -6.9299, -6.9296, -6.9326, -6.9391, -6.9303, -6.9304, -6.9311, -6.9311, -6.9312, -6.9323, -6.9328, -6.933, -6.9335, -6.9345, -6.9228, -6.914, -6.9231, -6.5838, -6.923, -6.9238, -6.5123, -6.9169, -6.7118, -6.5765, -6.9108, -6.6167, -6.7135, -6.6669, -6.6762, -6.9122, -6.66, -6.74, -6.6803, -6.6499, -6.9066, -6.7612, -6.7572, -6.7299, -6.745, -6.7303, -6.8751, -6.7523, -6.8121, -6.7678, -6.8367, -6.8173, -6.7851, -6.7881, -6.7932, -6.8019, -6.7895, -6.8035, -6.8038, -6.7911, -6.8088, -6.807]}, \"token.table\": {\"Topic\": [1, 3, 1, 3, 1, 3, 1, 3, 1, 3, 1, 3, 1, 3, 1, 3, 1, 3, 1, 3, 1, 3, 1, 2, 1, 3, 1, 2, 3, 1, 2, 1, 2, 1, 2, 1, 2, 3, 1, 2, 1, 2, 1, 2, 1, 2, 3, 1, 3, 1, 3, 1, 2, 3, 1, 2, 2, 3, 1, 2, 2, 3, 1, 2, 1, 2, 1, 3, 2, 3, 1, 3, 1, 2, 3, 2, 3, 1, 2, 1, 2, 3, 1, 2, 3, 1, 3, 1, 2, 1, 2, 2, 3, 1, 2, 3, 1, 2, 3, 1, 2, 1, 2, 1, 2, 1, 2, 3, 1, 2, 3, 1, 2, 1, 2, 3, 1, 2, 1, 2, 1, 2, 1, 2, 3, 1, 2, 3, 1, 2, 1, 2, 3, 1, 2, 1, 2, 3, 1, 3, 1, 2, 3, 1, 2, 3, 1, 2, 3, 1, 2, 1, 2, 1, 2, 1, 2, 1, 2, 3, 1, 2, 1, 2, 3, 1, 2, 3, 1, 2, 1, 2, 3, 1, 3, 1, 2, 1, 2, 3, 1, 2, 3, 1, 2, 3, 1, 2, 3, 1, 3, 1, 2, 1, 2, 1, 2, 1, 2, 3, 1, 2, 2, 3, 1, 3, 1, 2, 1, 2, 1, 2, 3, 2, 3, 1, 2, 1, 2, 3, 1, 2, 3, 1, 3, 1, 2, 3, 1, 2, 3, 1, 2, 3, 1, 2, 3, 1, 2, 3, 1, 2, 3, 1, 2, 1, 2, 3, 1, 2, 1, 2, 1, 2, 3, 1, 2, 2, 3, 1, 2, 1, 2, 1, 2, 1, 3, 2, 3, 1, 2, 3, 1, 2, 1, 2, 3, 1, 2, 1, 2, 1, 2, 3, 1, 2, 3, 1, 2, 1, 2, 1, 2, 1, 2, 1, 2, 3, 1, 2, 1, 3, 2, 3, 1, 2, 1, 2, 3, 1, 2, 3, 1, 2, 3, 1, 2, 1, 2, 1, 2, 1, 2, 1, 2, 3, 1, 2, 1, 2, 3, 1, 2, 3, 1, 2, 1, 2, 3, 1, 3, 1, 2, 3, 1, 2, 1, 2, 1, 2, 1, 2, 1, 2, 3, 1, 2, 1, 2, 1, 2, 3, 1, 2, 3, 1, 2, 3, 1, 2, 1, 2, 1, 2, 3, 1, 2, 1, 2, 1, 2, 3, 2, 3, 1, 2, 1, 3, 1, 2, 1, 2, 3, 1, 2, 3, 1, 3, 1, 2, 1, 2, 2, 3, 1, 2, 3, 1, 2, 1, 2, 1, 2, 1, 2, 3, 2, 3, 1, 3, 1, 2, 1, 2, 1, 2, 3, 1, 2, 1, 2, 3, 1, 2, 3, 1, 2, 3, 1, 2, 3, 1, 2, 3, 1, 2, 1, 2, 3, 1, 2, 1, 2, 1, 2, 3, 1, 2, 1, 2, 1, 2, 3], \"Freq\": [0.28981470208853827, 0.6762343048732559, 0.19393077611449294, 0.7757231044579718, 0.5742914216701015, 0.3828609477800677, 0.4859880994221566, 0.4859880994221566, 0.6678660165991643, 0.28622829282821327, 0.19393747928482072, 0.7757499171392829, 0.38525184635117815, 0.5778777695267673, 0.28998496573476906, 0.6766315867144612, 0.4512392290749646, 0.5264457672541254, 0.38530290326672617, 0.5779543549000893, 0.9277502039422716, 0.051541677996792865, 0.661564830806546, 0.28352778463137684, 0.017873542281437206, 0.9741080543383278, 0.47558745872736957, 0.2853524752364217, 0.1902349834909478, 0.06033084028529118, 0.9351280244220134, 0.013623967235647164, 0.9809256409665957, 0.9415605922015418, 0.04279820873643372, 0.9764510429221975, 0.010849456032468861, 0.010849456032468861, 0.07285596922523103, 0.9272577901393042, 0.8504910531627828, 0.09449900590697588, 0.09753563117659014, 0.9022045883834587, 0.6109094303841894, 0.24633444773556026, 0.13794729073191375, 0.037844147308904647, 0.9461036827226162, 0.06654721095603386, 0.9316609533844741, 0.10284138685349245, 0.22282300484923365, 0.6684690145477009, 0.11935648681857733, 0.8802540902870079, 0.005043862768548164, 0.9936409654039883, 0.9182122858583144, 0.07870391021642695, 0.019208408937162417, 0.9796288557952831, 0.486978608778886, 0.505355160053561, 0.8512804065714277, 0.13242139657777763, 0.07103686503280196, 0.9234792454264255, 0.2624554425396167, 0.7348752391109268, 0.053112283805701745, 0.9029088246969297, 0.9307000184711797, 0.03649803994004626, 0.01824901997002313, 0.018212403681183337, 0.9652573951027168, 0.9445472661873529, 0.04106727244292838, 0.08603216735508143, 0.120445034297114, 0.7914959396667491, 0.3749475279554884, 0.5900813554709327, 0.030733403930777742, 0.9534730837370186, 0.03667204168219302, 0.9038218286273888, 0.07859320248933815, 0.050287158189124624, 0.9386936195303263, 0.019566069443221694, 0.9783034721610847, 0.030528601398622214, 0.015264300699311107, 0.9540187937069442, 0.4138734430599237, 0.47407321659591256, 0.11287457537997918, 0.9156714634974361, 0.08079454089683259, 0.9214487773112178, 0.054202869253601044, 0.9306424149242465, 0.04898117973285508, 0.0545127817828456, 0.9267172903083751, 0.0136281954457114, 0.1404784176649714, 0.2809568353299428, 0.5619136706598856, 0.05732852038800067, 0.9172563262080107, 0.09697626089836273, 0.09697626089836273, 0.7758100871869018, 0.9345688388197666, 0.04672844194098833, 0.7559761824255223, 0.18899404560638058, 0.3783034096637013, 0.567455114495552, 0.3817119194455158, 0.28628393958413684, 0.28628393958413684, 0.3240768207544709, 0.16203841037723546, 0.48611523113170635, 0.04905157450642458, 0.9319799156220672, 0.9164872216414937, 0.05391101303773493, 0.026955506518867463, 0.9446786676470283, 0.05248214820261268, 0.3005660933297057, 0.0884017921557958, 0.6011321866594114, 0.026443232188287664, 0.9519563587783558, 0.47569846902576496, 0.28541908141545896, 0.190279387610306, 0.7691172726750614, 0.06687976284130968, 0.16719940710327422, 0.93904544749507, 0.020867676611001557, 0.020867676611001557, 0.5446155529736046, 0.45677433475205553, 0.2836963582301148, 0.6619581692036012, 0.7314608171397396, 0.2590590394036578, 0.07577771498659704, 0.9093325798391645, 0.7583095345800493, 0.09478869182250617, 0.09478869182250617, 0.03719855615382292, 0.9485631819224845, 0.6876713857760872, 0.19647753879316776, 0.11227287931038159, 0.4254771248873739, 0.521918606528512, 0.05673028331831652, 0.13870133755999706, 0.8574264503708909, 0.8346771948428539, 0.1554226500741866, 0.011512788894384191, 0.9457897887215427, 0.04112129516180621, 0.9414800551462447, 0.04279454796119294, 0.34763827336541436, 0.3364241355149171, 0.3252099976644199, 0.3354055535134017, 0.3354055535134017, 0.32320898793109615, 0.050847319500338196, 0.20338927800135279, 0.7481819869335478, 0.21163112968791495, 0.7637123375694321, 0.027604060394075862, 0.03926404904506993, 0.9423371770816784, 0.3267136532548765, 0.677333183577183, 0.9513937826364708, 0.04756968913182354, 0.054278257477128326, 0.9227303771111816, 0.8366039476099983, 0.14179727925593194, 0.014179727925593192, 0.5670046583085827, 0.37800310553905514, 0.040791025824973084, 0.9381935939743811, 0.09728188496757934, 0.875536964708214, 0.5672402204402763, 0.3781601469601842, 0.03953095411661126, 0.9487428987986702, 0.0858684516585588, 0.8777663947319344, 0.0381637562926928, 0.06655554058881641, 0.9317775682434296, 0.071449637375134, 0.928845285876742, 0.12607522369668692, 0.8405014913112462, 0.028016716377041537, 0.7891200275320244, 0.20392989475546697, 0.008866517163281172, 0.12199973204866169, 0.8539981243406318, 0.7890316967671357, 0.2012835961140652, 0.008051343844562608, 0.2733158482197665, 0.7028121811365424, 0.024403200733907723, 0.3818377858835709, 0.2863783394126782, 0.2863783394126782, 0.6636737073224656, 0.18962105923499017, 0.09481052961749509, 0.3564703625663554, 0.41450042158878536, 0.2321202360897198, 0.047521950693193725, 0.938558526190576, 0.011880487673298431, 0.12388458156955254, 0.8671920709868678, 0.27162555155717516, 0.46564380266944316, 0.26192463900156177, 0.4930593617063165, 0.5060346080670091, 0.9687493432583056, 0.02849262774289134, 0.6819474696938551, 0.23515429989443282, 0.08230400496305149, 0.8504461481371818, 0.09449401645968687, 0.02459105007870817, 0.9590509530696187, 0.5629662378943061, 0.43363615621588447, 0.9680574351334027, 0.027658783860954363, 0.020404245050383085, 0.979403762418388, 0.03531489225763675, 0.9535020909561923, 0.19394987027194888, 0.7757994810877955, 0.3159681616611978, 0.6643433142620055, 0.024305243204707522, 0.9426326558094907, 0.053864723189113756, 0.013381247805553062, 0.8965436029720552, 0.08831623551665022, 0.9666769510230871, 0.03268955873024932, 0.9691048263331381, 0.017305443327377466, 0.8640785708772204, 0.11369454879963425, 0.022738909759926852, 0.41440744681044733, 0.46556885999692227, 0.12278739164753995, 0.3783067000001231, 0.5674600500001847, 0.9445692893515331, 0.041068229971805786, 0.001826145404511387, 0.9970753908632173, 0.28374903704272736, 0.6620810864330304, 0.9521279728688286, 0.023803199321720713, 0.023803199321720713, 0.9382073779044539, 0.044676541804974, 0.05873184455608664, 0.9397095128973862, 0.9194621497110974, 0.07355697197688779, 0.7783165881233579, 0.17295924180519065, 0.7463706892810857, 0.17968183260470583, 0.06910839715565609, 0.9295754468487705, 0.032054325753405874, 0.032054325753405874, 0.3817497061893168, 0.28631227964198763, 0.28631227964198763, 0.8644755197819171, 0.11788302542480687, 0.9546578039136535, 0.03535769644124643, 0.3783022197248788, 0.5674533295873182, 0.07514847642256199, 0.9168114123552562, 0.06035363644723873, 0.030176818223619364, 0.905304546708581, 0.9183372723535718, 0.07871462334459187, 0.6088801717769623, 0.17396576336484637, 0.17396576336484637, 0.05649095775074733, 0.018830319250249108, 0.9226856432622063, 0.7884682904466964, 0.1971170726116741, 0.37059782136738645, 0.32193346098581044, 0.31070322397467753, 0.7605540933996504, 0.1901385233499126, 0.032049526855466304, 0.032049526855466304, 0.9294362788085228, 0.2355719887491225, 0.7628045349971585, 0.1731259295296736, 0.7790666828835312, 0.060764441351945364, 0.9114666202791805, 0.1112242988568463, 0.8878082426608982, 0.01318261265228012, 0.02636522530456024, 0.9491481109641686, 0.25326836326073277, 0.7464751759263702, 0.06075366544470054, 0.9113049816705081, 0.16158217697889105, 0.08079108848944552, 0.7540501592348249, 0.10572119555205889, 0.8692631634280398, 0.023493599011568642, 0.43390487744105943, 0.43390487744105943, 0.08678097548821188, 0.03157858492209518, 0.9684099376109186, 0.06459924323246144, 0.9043894052544601, 0.05303753191470758, 0.05303753191470758, 0.8486005106353213, 0.5672159783889006, 0.3781439855926004, 0.9224680752424681, 0.06833096853647912, 0.03702314592469005, 0.018511572962345024, 0.9440902210795962, 0.0847241312794842, 0.889603378434584, 0.9381784890859282, 0.04467516614694896, 0.07560239372445833, 0.9072287246935, 0.06076245211131683, 0.9114367816697525, 0.03657521752301287, 0.9143804380753217, 0.03657521752301287, 0.8216820045047518, 0.09302060428355681, 0.07751717023629734, 0.9331589504486735, 0.06221059669657823, 0.04654483695367148, 0.9541691575502653, 0.9499279974141566, 0.03799711989656626, 0.10099209756244379, 0.8584328292807721, 0.08090864928728239, 0.9001087233210167, 0.020227162321820598, 0.03206317568548363, 0.9618952705645087, 0.047718172981782526, 0.9483986880129278, 0.46211154745913735, 0.5354625867383654, 0.6710292806057193, 0.3078115966081281, 0.02154681176256897, 0.04613872612058305, 0.922774522411661, 0.09633467449176333, 0.86701207042587, 0.08741309656841875, 0.909096204311555, 0.7562479524997145, 0.18906198812492864, 0.42551634265821986, 0.20667936643399248, 0.37688590349728046, 0.05152527775909075, 0.9274549996636335, 0.16203936302461092, 0.8101968151230546, 0.024929132773017067, 0.07582145105586637, 0.15164290211173273, 0.7582145105586636, 0.027050095175038244, 0.08115028552511473, 0.8926531407762621, 0.4641212209822653, 0.4051851929210253, 0.1252390596301351, 0.03901125998074156, 0.07802251996148311, 0.8777533495666849, 0.017042561481801763, 0.9714260044627006, 0.6650240964427004, 0.20182323324877974, 0.13234310376969163, 0.8805584286877607, 0.11181694332542992, 0.9638281988748879, 0.030119631214840247, 0.8119731081937369, 0.16239462163874738, 0.024359193245812108, 0.006539245800869343, 0.9874261159312708, 0.10075201075633626, 0.892374952413264, 0.3116531642893933, 0.681411155819182, 0.005282257021854125], \"Term\": [\"24\", \"24\", \"25\", \"25\", \"31\", \"31\", \"40\", \"40\", \"42\", \"42\", \"53\", \"53\", \"61\", \"61\", \"64\", \"64\", \"65\", \"65\", \"76\", \"76\", \"ability\", \"ability\", \"actually\", \"actually\", \"add\", \"add\", \"address\", \"address\", \"address\", \"afraid\", \"afraid\", \"answered\", \"answered\", \"apparent\", \"apparent\", \"art\", \"art\", \"art\", \"asked\", \"asked\", \"attained\", \"attained\", \"believe\", \"believe\", \"best\", \"best\", \"best\", \"boiled\", \"boiled\", \"boiling\", \"boiling\", \"book\", \"book\", \"book\", \"boy\", \"boy\", \"bread\", \"bread\", \"brother\", \"brother\", \"buttered\", \"buttered\", \"came\", \"came\", \"case\", \"case\", \"caviar\", \"caviar\", \"cent\", \"cent\", \"center\", \"center\", \"character\", \"character\", \"character\", \"chicken\", \"chicken\", \"church\", \"church\", \"cold\", \"cold\", \"cold\", \"come\", \"come\", \"come\", \"composed\", \"composed\", \"count\", \"count\", \"cousin\", \"cousin\", \"cover\", \"cover\", \"cut\", \"cut\", \"cut\", \"day\", \"day\", \"day\", \"death\", \"death\", \"degree\", \"degree\", \"development\", \"development\", \"dollar\", \"dollar\", \"dollar\", \"dozen\", \"dozen\", \"dozen\", \"drink\", \"drink\", \"edge\", \"edge\", \"edge\", \"element\", \"element\", \"emotion\", \"emotion\", \"enjoy\", \"enjoy\", \"entity\", \"entity\", \"entity\", \"exceedingly\", \"exceedingly\", \"exceedingly\", \"expect\", \"expect\", \"extent\", \"extent\", \"extent\", \"finally\", \"finally\", \"fine\", \"fine\", \"fine\", \"fish\", \"fish\", \"follow\", \"follow\", \"follow\", \"form\", \"form\", \"form\", \"frequently\", \"frequently\", \"frequently\", \"friend\", \"friend\", \"furnished\", \"furnished\", \"gave\", \"gave\", \"gentleman\", \"gentleman\", \"george\", \"george\", \"george\", \"girl\", \"girl\", \"given\", \"given\", \"given\", \"good\", \"good\", \"good\", \"got\", \"got\", \"great\", \"great\", \"great\", \"greatest\", \"greatest\", \"greatly\", \"greatly\", \"gutenberg\", \"gutenberg\", \"gutenberg\", \"gutenbergtm\", \"gutenbergtm\", \"gutenbergtm\", \"half\", \"half\", \"half\", \"home\", \"home\", \"home\", \"hot\", \"hot\", \"house\", \"house\", \"humor\", \"humor\", \"husband\", \"husband\", \"idea\", \"idea\", \"idea\", \"impressed\", \"impressed\", \"inch\", \"inch\", \"indian\", \"indian\", \"joke\", \"joke\", \"julius\", \"julius\", \"know\", \"know\", \"know\", \"la\", \"la\", \"leave\", \"leave\", \"let\", \"let\", \"let\", \"letter\", \"letter\", \"letter\", \"level\", \"level\", \"life\", \"life\", \"life\", \"like\", \"like\", \"like\", \"link\", \"link\", \"link\", \"list\", \"list\", \"list\", \"little\", \"little\", \"little\", \"look\", \"look\", \"look\", \"looked\", \"looked\", \"make\", \"make\", \"make\", \"man\", \"man\", \"master\", \"master\", \"matter\", \"matter\", \"matter\", \"measure\", \"measure\", \"meat\", \"meat\", \"mind\", \"mind\", \"minor\", \"minor\", \"miss\", \"miss\", \"mix\", \"mix\", \"mixed\", \"mixed\", \"money\", \"money\", \"money\", \"movement\", \"movement\", \"mr\", \"mr\", \"mr\", \"music\", \"music\", \"musician\", \"musician\", \"nature\", \"nature\", \"nature\", \"new\", \"new\", \"new\", \"news\", \"news\", \"ninth\", \"ninth\", \"nt\", \"nt\", \"obliged\", \"obliged\", \"occasion\", \"occasion\", \"occasion\", \"occupied\", \"occupied\", \"olive\", \"olive\", \"ought\", \"ought\", \"patience\", \"patience\", \"people\", \"people\", \"people\", \"performance\", \"performance\", \"performance\", \"performing\", \"performing\", \"performing\", \"piano\", \"piano\", \"played\", \"played\", \"pleased\", \"pleased\", \"poor\", \"poor\", \"pound\", \"pound\", \"pound\", \"power\", \"power\", \"preferred\", \"preferred\", \"preferred\", \"press\", \"press\", \"press\", \"probably\", \"probably\", \"project\", \"project\", \"project\", \"range\", \"range\", \"remove\", \"remove\", \"remove\", \"room\", \"room\", \"run\", \"run\", \"sad\", \"sad\", \"said\", \"said\", \"salt\", \"salt\", \"salt\", \"say\", \"say\", \"secretary\", \"secretary\", \"serve\", \"serve\", \"serve\", \"shall\", \"shall\", \"shall\", \"share\", \"share\", \"share\", \"sir\", \"sir\", \"sleep\", \"sleep\", \"smooth\", \"smooth\", \"smooth\", \"source\", \"source\", \"spirit\", \"spirit\", \"spread\", \"spread\", \"spread\", \"square\", \"square\", \"stated\", \"stated\", \"stir\", \"stir\", \"stranger\", \"stranger\", \"street\", \"street\", \"street\", \"subject\", \"subject\", \"subject\", \"summer\", \"summer\", \"suppose\", \"suppose\", \"talent\", \"talent\", \"tea\", \"tea\", \"tell\", \"tell\", \"tell\", \"thank\", \"thank\", \"think\", \"think\", \"thought\", \"thought\", \"time\", \"time\", \"time\", \"toast\", \"toast\", \"tongue\", \"tongue\", \"uncle\", \"uncle\", \"understood\", \"understood\", \"use\", \"use\", \"use\", \"walked\", \"walked\", \"want\", \"want\", \"want\", \"warm\", \"warm\", \"warm\", \"water\", \"water\", \"water\", \"way\", \"way\", \"way\", \"white\", \"white\", \"white\", \"wo\", \"wo\", \"work\", \"work\", \"work\", \"world\", \"world\", \"wrote\", \"wrote\", \"year\", \"year\", \"year\", \"yes\", \"yes\", \"york\", \"york\", \"young\", \"young\", \"young\"]}, \"R\": 30, \"lambda.step\": 0.01, \"plot.opts\": {\"xlab\": \"PC1\", \"ylab\": \"PC2\"}, \"topic.order\": [1, 2, 4, 3]};\n",
       "\n",
       "function LDAvis_load_lib(url, callback){\n",
       "  var s = document.createElement('script');\n",
       "  s.src = url;\n",
       "  s.async = true;\n",
       "  s.onreadystatechange = s.onload = callback;\n",
       "  s.onerror = function(){console.warn(\"failed to load library \" + url);};\n",
       "  document.getElementsByTagName(\"head\")[0].appendChild(s);\n",
       "}\n",
       "\n",
       "if(typeof(LDAvis) !== \"undefined\"){\n",
       "   // already loaded: just create the visualization\n",
       "   !function(LDAvis){\n",
       "       new LDAvis(\"#\" + \"ldavis_el2047438135760442486186299\", ldavis_el2047438135760442486186299_data);\n",
       "   }(LDAvis);\n",
       "}else if(typeof define === \"function\" && define.amd){\n",
       "   // require.js is available: use it to load d3/LDAvis\n",
       "   require.config({paths: {d3: \"https://cdnjs.cloudflare.com/ajax/libs/d3/3.5.5/d3.min\"}});\n",
       "   require([\"d3\"], function(d3){\n",
       "      window.d3 = d3;\n",
       "      LDAvis_load_lib(\"https://cdn.rawgit.com/bmabey/pyLDAvis/files/ldavis.v1.0.0.js\", function(){\n",
       "        new LDAvis(\"#\" + \"ldavis_el2047438135760442486186299\", ldavis_el2047438135760442486186299_data);\n",
       "      });\n",
       "    });\n",
       "}else{\n",
       "    // require.js not available: dynamically load d3 & LDAvis\n",
       "    LDAvis_load_lib(\"https://cdnjs.cloudflare.com/ajax/libs/d3/3.5.5/d3.min.js\", function(){\n",
       "         LDAvis_load_lib(\"https://cdn.rawgit.com/bmabey/pyLDAvis/files/ldavis.v1.0.0.js\", function(){\n",
       "                 new LDAvis(\"#\" + \"ldavis_el2047438135760442486186299\", ldavis_el2047438135760442486186299_data);\n",
       "            })\n",
       "         });\n",
       "}\n",
       "</script>"
      ],
      "text/plain": [
       "PreparedData(topic_coordinates=            Freq  cluster  topics         x         y\n",
       "topic                                                \n",
       "0      43.163277        1       1  0.071982  0.092611\n",
       "1      42.306655        1       2  0.136373 -0.091949\n",
       "3      14.527838        1       3 -0.215945 -0.026296\n",
       "2       0.002229        1       4  0.007590  0.025633, topic_info=     Category        Freq         Term       Total  loglift  logprob\n",
       "term                                                                \n",
       "617   Default  547.000000           nt  547.000000  30.0000  30.0000\n",
       "150   Default  198.000000        bread  198.000000  29.0000  29.0000\n",
       "790   Default  503.000000         said  503.000000  28.0000  28.0000\n",
       "597   Default  373.000000           mr  373.000000  27.0000  27.0000\n",
       "234   Default  131.000000          cut  131.000000  26.0000  26.0000\n",
       "598   Default  214.000000        music  214.000000  25.0000  25.0000\n",
       "72    Default  111.000000          add  111.000000  24.0000  24.0000\n",
       "431   Default  137.000000         half  137.000000  23.0000  23.0000\n",
       "996   Default  152.000000          yes  152.000000  22.0000  22.0000\n",
       "986   Default  604.000000         work  604.000000  21.0000  21.0000\n",
       "916   Default  167.000000        think  167.000000  20.0000  20.0000\n",
       "586   Default  147.000000         miss  147.000000  19.0000  19.0000\n",
       "566   Default  140.000000       master  140.000000  18.0000  18.0000\n",
       "718   Default  267.000000      project  267.000000  17.0000  17.0000\n",
       "149   Default  201.000000          boy  201.000000  16.0000  16.0000\n",
       "942   Default  171.000000        uncle  171.000000  15.0000  15.0000\n",
       "112   Default  150.000000        asked  150.000000  14.0000  14.0000\n",
       "532   Default  248.000000         life  248.000000  13.0000  13.0000\n",
       "502   Default  209.000000         know  209.000000  12.0000  12.0000\n",
       "995   Default  246.000000         year  246.000000  11.0000  11.0000\n",
       "791   Default   75.000000         salt   75.000000  10.0000  10.0000\n",
       "560   Default  308.000000          man  308.000000   9.0000   9.0000\n",
       "832   Default   95.000000          sir   95.000000   8.0000   8.0000\n",
       "422   Default  173.000000        great  173.000000   7.0000   7.0000\n",
       "109   Default   92.000000          art   92.000000   6.0000   6.0000\n",
       "558   Default  206.000000         make  206.000000   5.0000   5.0000\n",
       "428   Default  163.000000  gutenbergtm  163.000000   4.0000   4.0000\n",
       "94    Default   73.000000     answered   73.000000   3.0000   3.0000\n",
       "795   Default  150.000000          say  150.000000   2.0000   2.0000\n",
       "921   Default  324.000000         time  324.000000   1.0000   1.0000\n",
       "...       ...         ...          ...         ...      ...      ...\n",
       "234    Topic4    0.000914          cut  131.024672  -1.1616  -6.7135\n",
       "995    Topic4    0.000958         year  246.313576  -1.7463  -6.6669\n",
       "532    Topic4    0.000949         life  248.405737  -1.7640  -6.6762\n",
       "966    Topic4    0.000749         warm   13.188880   0.9357  -6.9122\n",
       "560    Topic4    0.000964          man  308.279310  -1.9638  -6.6600\n",
       "431    Topic4    0.000890         half  137.667041  -1.2375  -6.7400\n",
       "921    Topic4    0.000945         time  324.874050  -2.0365  -6.6803\n",
       "617    Topic4    0.000974           nt  547.601520  -2.5282  -6.6499\n",
       "279    Topic4    0.000754        dozen   14.237062   0.8648  -6.9066\n",
       "543    Topic4    0.000872       little  120.627139  -1.1266  -6.7612\n",
       "969    Topic4    0.000875          way  135.740400  -1.2407  -6.7572\n",
       "598    Topic4    0.000899        music  214.135653  -1.6692  -6.7299\n",
       "418    Topic4    0.000886         good  176.272696  -1.4898  -6.7450\n",
       "718    Topic4    0.000899      project  267.135947  -1.8908  -6.7303\n",
       "475    Topic4    0.000778         inch   24.515196   0.3528  -6.8751\n",
       "502    Topic4    0.000879         know  209.622972  -1.6704  -6.7523\n",
       "791    Topic4    0.000828         salt   75.857497  -0.7137  -6.8121\n",
       "558    Topic4    0.000866         make  206.166171  -1.6692  -6.7678\n",
       "855    Topic4    0.000808       spread   54.020261  -0.3988  -6.8367\n",
       "382    Topic4    0.000824         form   89.713237  -0.8866  -6.8173\n",
       "422    Topic4    0.000851        great  173.719853  -1.5153  -6.7851\n",
       "916    Topic4    0.000848        think  167.651012  -1.4827  -6.7881\n",
       "428    Topic4    0.000844  gutenbergtm  163.980588  -1.4656  -6.7932\n",
       "242    Topic4    0.000837          day  132.890865  -1.2642  -6.8019\n",
       "998    Topic4    0.000847        young  189.313014  -1.6056  -6.7895\n",
       "918    Topic4    0.000835      thought  136.330720  -1.2913  -6.8035\n",
       "566    Topic4    0.000835       master  140.387192  -1.3209  -6.8038\n",
       "534    Topic4    0.000846         like  204.891156  -1.6863  -6.7911\n",
       "586    Topic4    0.000831         miss  147.028228  -1.3722  -6.8088\n",
       "608    Topic4    0.000833          new  195.459808  -1.6551  -6.8070\n",
       "\n",
       "[277 rows x 6 columns], token_table=      Topic      Freq      Term\n",
       "term                           \n",
       "17        1  0.289815        24\n",
       "17        3  0.676234        24\n",
       "18        1  0.193931        25\n",
       "18        3  0.775723        25\n",
       "24        1  0.574291        31\n",
       "24        3  0.382861        31\n",
       "32        1  0.485988        40\n",
       "32        3  0.485988        40\n",
       "34        1  0.667866        42\n",
       "34        3  0.286228        42\n",
       "43        1  0.193937        53\n",
       "43        3  0.775750        53\n",
       "48        1  0.385252        61\n",
       "48        3  0.577878        61\n",
       "51        1  0.289985        64\n",
       "51        3  0.676632        64\n",
       "52        1  0.451239        65\n",
       "52        3  0.526446        65\n",
       "56        1  0.385303        76\n",
       "56        3  0.577954        76\n",
       "59        1  0.927750   ability\n",
       "59        3  0.051542   ability\n",
       "71        1  0.661565  actually\n",
       "71        2  0.283528  actually\n",
       "72        1  0.017874       add\n",
       "72        3  0.974108       add\n",
       "76        1  0.475587   address\n",
       "76        2  0.285352   address\n",
       "76        3  0.190235   address\n",
       "82        1  0.060331    afraid\n",
       "...     ...       ...       ...\n",
       "966       2  0.151643      warm\n",
       "966       3  0.758215      warm\n",
       "968       1  0.027050     water\n",
       "968       2  0.081150     water\n",
       "968       3  0.892653     water\n",
       "969       1  0.464121       way\n",
       "969       2  0.405185       way\n",
       "969       3  0.125239       way\n",
       "975       1  0.039011     white\n",
       "975       2  0.078023     white\n",
       "975       3  0.877753     white\n",
       "982       1  0.017043        wo\n",
       "982       2  0.971426        wo\n",
       "986       1  0.665024      work\n",
       "986       2  0.201823      work\n",
       "986       3  0.132343      work\n",
       "988       1  0.880558     world\n",
       "988       2  0.111817     world\n",
       "994       1  0.963828     wrote\n",
       "994       2  0.030120     wrote\n",
       "995       1  0.811973      year\n",
       "995       2  0.162395      year\n",
       "995       3  0.024359      year\n",
       "996       1  0.006539       yes\n",
       "996       2  0.987426       yes\n",
       "997       1  0.100752      york\n",
       "997       2  0.892375      york\n",
       "998       1  0.311653     young\n",
       "998       2  0.681411     young\n",
       "998       3  0.005282     young\n",
       "\n",
       "[463 rows x 3 columns], R=30, lambda_step=0.01, plot_opts={'xlab': 'PC1', 'ylab': 'PC2'}, topic_order=[1, 2, 4, 3])"
      ]
     },
     "execution_count": 25,
     "metadata": {},
     "output_type": "execute_result"
    }
   ],
   "source": [
    "import pyLDAvis\n",
    "import pyLDAvis.sklearn\n",
    "pyLDAvis.enable_notebook()\n",
    "pyLDAvis.sklearn.prepare(lda, tf, tf_vectorizer)"
   ]
  },
  {
   "cell_type": "markdown",
   "metadata": {
    "collapsed": true
   },
   "source": [
    "### Understanding the visualizations\n",
    "- The size of the circle represents the documents in each topic\n",
    "- The bars in the left part show the most frequent keywords in each topic\n",
    "- The distance among the circles shows the similarity of different topics\n",
    "- Set λ = 1, the words with high frequency are more relevant to the topic,\n",
    "- Set λ = 0, words more exclusive are more relavent to the topic.\n",
    "\n",
    "### About pyLDAvis\n",
    "\n",
    "[pyLDAvis](http://pyldavis.readthedocs.io/en/latest/modules/API.html) is designed to help users interpret the topics in a topic model that has been fit to a corpus of text data. The\n",
    "package extracts information from a fitted LDA topic model to inform an interactive web-based visualization\n",
    "\n",
    "It answers three questions:\n",
    " 1. What is the meaning of each topic?\n",
    " 2. How prevalent is each topic?\n",
    " 3. How do the topics relate to each other?\n"
   ]
  },
  {
   "cell_type": "code",
   "execution_count": null,
   "metadata": {
    "collapsed": true
   },
   "outputs": [],
   "source": []
  }
 ],
 "metadata": {
  "kernelspec": {
   "display_name": "Python 3",
   "language": "python",
   "name": "python3"
  },
  "language_info": {
   "codemirror_mode": {
    "name": "ipython",
    "version": 3
   },
   "file_extension": ".py",
   "mimetype": "text/x-python",
   "name": "python",
   "nbconvert_exporter": "python",
   "pygments_lexer": "ipython3",
   "version": "3.6.1"
  }
 },
 "nbformat": 4,
 "nbformat_minor": 2
}
